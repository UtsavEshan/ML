{
 "cells": [
  {
   "cell_type": "code",
   "execution_count": 139,
   "id": "9d588f38",
   "metadata": {},
   "outputs": [],
   "source": [
    "import numpy as np\n",
    "import pandas as pd\n",
    "import matplotlib.pyplot as plt\n",
    "from sklearn.model_selection import train_test_split"
   ]
  },
  {
   "cell_type": "code",
   "execution_count": 140,
   "id": "2d0d8122",
   "metadata": {},
   "outputs": [],
   "source": [
    "df = pd.read_csv('50_startups.csv')"
   ]
  },
  {
   "cell_type": "code",
   "execution_count": 141,
   "id": "19d14aa4",
   "metadata": {},
   "outputs": [],
   "source": [
    "x = df.iloc[:,:-1].values\n",
    "y = df.iloc[:,-1].values"
   ]
  },
  {
   "cell_type": "code",
   "execution_count": 142,
   "id": "85d2167b",
   "metadata": {},
   "outputs": [],
   "source": [
    "# from sklearn.compose import ColumnTransformer\n",
    "# from sklearn.preprocessing import OneHotEncoder\n",
    "# ct = ColumnTransformer(transformers=[('encoder', OneHotEncoder(), [3])], remainder='passthrough')\n",
    "# x = np.array(ct.fit_transform(x))"
   ]
  },
  {
   "cell_type": "code",
   "execution_count": 143,
   "id": "bab5423e",
   "metadata": {},
   "outputs": [],
   "source": [
    "from sklearn.preprocessing import StandardScaler\n",
    "sc = StandardScaler()\n",
    "x = sc.fit_transform(x)"
   ]
  },
  {
   "cell_type": "code",
   "execution_count": 144,
   "id": "426c444d",
   "metadata": {},
   "outputs": [],
   "source": [
    "Xtrain, Xtest, Ytrain, Ytest = train_test_split( x, y, test_size = 0.3,random_state=42)"
   ]
  },
  {
   "cell_type": "code",
   "execution_count": 145,
   "id": "73857a0e",
   "metadata": {},
   "outputs": [],
   "source": [
    "#logic implementation\n",
    "#cost function implementation\n",
    "\n",
    "def CostFunction(x,y,w,b):\n",
    "    cost = np.sum((((x.dot(w) + b) - y) ** 2) / (2*len(y)))\n",
    "    return cost\n",
    "                  \n",
    "def GradientDescent(x,y,w,b,lr,epochs):\n",
    "    cost_list = [0]*epochs\n",
    "    \n",
    "    for epoch in range(epochs):\n",
    "        y_pred = x.dot(w)+b\n",
    "        loss = y_pred - y\n",
    "        w = w - ((lr/len(y))* x.T.dot(loss))\n",
    "        b = b - ((lr/len(y))* np.sum(loss))\n",
    "        cost = CostFunction(x,y,w,b)\n",
    "        cost_list[epoch] = cost\n",
    "        \n",
    "        # for every 10 epoch, show the cost function \n",
    "        if(epoch%(epochs/10)==10):\n",
    "            print('Cost is:',cost)\n",
    "    return w,b, cost_list                "
   ]
  },
  {
   "cell_type": "code",
   "execution_count": 154,
   "id": "79b69f48",
   "metadata": {
    "scrolled": true
   },
   "outputs": [
    {
     "name": "stdout",
     "output_type": "stream",
     "text": [
      "Cost is: 6986403715.220485\n",
      "Cost is: 95305314.50084537\n",
      "Cost is: 52179023.59962094\n",
      "Cost is: 43996292.65711264\n",
      "Cost is: 41816491.62927481\n",
      "Cost is: 41233642.68628827\n",
      "Cost is: 41077791.08573672\n",
      "Cost is: 41036116.94073422\n",
      "Cost is: 41024973.42751649\n",
      "Cost is: 41021993.69303516\n"
     ]
    }
   ],
   "source": [
    "w, b, c= GradientDescent(Xtrain, Ytrain, np.zeros(Xtrain.shape[1]), 0, 0.0002,epochs=150000)"
   ]
  },
  {
   "cell_type": "code",
   "execution_count": 155,
   "id": "40b7f288",
   "metadata": {},
   "outputs": [
    {
     "data": {
      "text/plain": [
       "[<matplotlib.lines.Line2D at 0x26129e5c190>]"
      ]
     },
     "execution_count": 155,
     "metadata": {},
     "output_type": "execute_result"
    },
    {
     "data": {
      "image/png": "[encoded data removed]",
      "text/plain": [
       "<Figure size 640x480 with 1 Axes>"
      ]
     },
     "metadata": {},
     "output_type": "display_data"
    }
   ],
   "source": [
    "plt.plot(c)"
   ]
  },
  {
   "cell_type": "code",
   "execution_count": 156,
   "id": "7f73fe53",
   "metadata": {},
   "outputs": [],
   "source": [
    "def predict(X, w, b):\n",
    "    return X.dot(w) + b\n",
    "y_pred = predict(Xtest, w, b)"
   ]
  },
  {
   "cell_type": "code",
   "execution_count": 157,
   "id": "e0a1cece",
   "metadata": {},
   "outputs": [
    {
     "data": {
      "text/plain": [
       "94.18834285938374"
      ]
     },
     "execution_count": 157,
     "metadata": {},
     "output_type": "execute_result"
    }
   ],
   "source": [
    "def r2score(y_pred, y):\n",
    "    rss = np.sum((y_pred - y) ** 2)\n",
    "    tss = np.sum((y-y.mean()) ** 2)\n",
    "    \n",
    "    r2 = 1 - (rss / tss)\n",
    "    return r2\n",
    "r2score(y_pred, Ytest)"
   ]
  },
  {
   "cell_type": "code",
   "execution_count": null,
   "id": "aac51170",
   "metadata": {},
   "outputs": [],
   "source": []
  }
 ],
 "metadata": {
  "kernelspec": {
   "display_name": "Python 3 (ipykernel)",
   "language": "python",
   "name": "python3"
  },
  "language_info": {
   "codemirror_mode": {
    "name": "ipython",
    "version": 3
   },
   "file_extension": ".py",
   "mimetype": "text/x-python",
   "name": "python",
   "nbconvert_exporter": "python",
   "pygments_lexer": "ipython3",
   "version": "3.10.9"
  }
 },
 "nbformat": 4,
 "nbformat_minor": 5
}
