{
 "cells": [
  {
   "cell_type": "code",
   "execution_count": 241,
   "id": "5eaa0f39",
   "metadata": {},
   "outputs": [],
   "source": [
    "import matplotlib.pyplot as plt\n",
    "import numpy as np\n",
    "import pandas as pd"
   ]
  },
  {
   "cell_type": "code",
   "execution_count": 242,
   "id": "7ae2875d",
   "metadata": {},
   "outputs": [],
   "source": [
    "#Data processing\n",
    "df= pd.read_csv('data.csv')"
   ]
  },
  {
   "cell_type": "code",
   "execution_count": 243,
   "id": "2c5063ed",
   "metadata": {},
   "outputs": [
    {
     "data": {
      "image/png": "[encoded data removed]",
      "text/plain": [
       "<Figure size 640x480 with 1 Axes>"
      ]
     },
     "metadata": {},
     "output_type": "display_data"
    }
   ],
   "source": [
    "# x and y refer to the true values and we are going to do a scatter plot for the purpose learning how the data intially looks.\n",
    "x = df.iloc[:,0]\n",
    "y = df.iloc[:,1]\n",
    "\n",
    "plt.scatter(x,y)\n",
    "plt.show()"
   ]
  },
  {
   "cell_type": "code",
   "execution_count": 244,
   "id": "45545de4",
   "metadata": {},
   "outputs": [],
   "source": [
    "#Cost function -- loss function -- residual sum of squares \n",
    "#find total error squared:\n",
    "# total_error = 0\n",
    "# for y_predicted_value in y_pred:\n",
    "#     for y_true_value in y:\n",
    "#         total_error = total_error + np.square(y_predicted_value - y_true_value)\n",
    "# print(f'Total error= {total_error}')    \n",
    "\n",
    "# #calculate average square error \n",
    "sample_size = len(y)\n",
    "# average_square_error = (1/(2*sample_size))*total_error\n",
    "# print(average_square_error)\n",
    "\n",
    "#intial values for slope and gradient\n"
   ]
  },
  {
   "cell_type": "code",
   "execution_count": 245,
   "id": "6c03cb8e",
   "metadata": {},
   "outputs": [],
   "source": [
    "# #Function to calculate partial derivative of cost function with respect to the gradient\n",
    "# def Derivative_m(m,b):\n",
    "#     y_pred = (m*x)+b\n",
    "#     return ((-2/sample_size) * sum(x * (y - y_pred)))\n",
    "# #     total_error_gradient = 0\n",
    "# #     for x_true_value in x:\n",
    "# #         for y_true_value in y:\n",
    "# #             total_error_gradient = total_error_gradient + (x_true_value*(y_true_value-((m*x_true_value)+b)))\n",
    "# #     print(total_error_gradient)\n",
    "# #     return ((1/sample_size)*total_error_gradient)\n",
    "\n",
    "# #Function to calculate partial derivative of cost function with respect to the y-intercept\n",
    "# def Derivative_b(m,b):\n",
    "#     y_pred = (m*x)+b\n",
    "#     return (-2/sample_size) * sum(y - y_pred)\n",
    "# #     total_error_gradient = 0\n",
    "# #     for x_true_value in x:\n",
    "# #         for y_true_value in y:\n",
    "# #             total_error_gradient = total_error_gradient + (x_true_value*(y_true_value-((m*x_true_value)+b)))\n",
    "# #     print(total_error_gradient)\n",
    "# #     return ((-2/sample_size)*total_error_gradient)"
   ]
  },
  {
   "cell_type": "code",
   "execution_count": 246,
   "id": "2e3a8786",
   "metadata": {},
   "outputs": [
    {
     "name": "stdout",
     "output_type": "stream",
     "text": [
      "nan nan\n"
     ]
    }
   ],
   "source": [
    "# # gradient descent\n",
    "# #find slope and y-interxept\n",
    "# #intital values for m is 5 and b is 7\n",
    "\n",
    "\n",
    "# #Slope finding\n",
    "# #temp_m= m - learning_rate*derivative(m,b)\n",
    "\n",
    "# def find_slope():\n",
    "#     temp_m = 0 \n",
    "#     i=0\n",
    "#     while i<10000:\n",
    "#         temp_m = temp_m - (0.0001*Derivative_m(temp_m,0))\n",
    "#         i=i+1\n",
    "#     return temp_m\n",
    "\n",
    "# m = find_slope()\n",
    "# print(m)\n",
    "\n",
    "# def find_intercept():\n",
    "#     temp_b = 0\n",
    "#     i=0\n",
    "#     while i<1000:\n",
    "#         temp_b = temp_b - (0.001*Derivative_b(0,temp_b))\n",
    "#         i=i+1\n",
    "#     return temp_b\n",
    "\n",
    "# b = find_intercept()\n",
    "# print(b)\n",
    "\n",
    "\n",
    "#BOTH VARIABLES HAVE TO BE UPDATED SIMULATENOUSLY\n",
    "\n",
    "m=0\n",
    "b=0\n",
    "\n",
    "L=0.001\n",
    "epochs = 1000\n",
    " \n",
    "n = float(len(x))\n",
    "\n",
    "for i in range(epochs):\n",
    "    y_pred = m*x+b\n",
    "    D_m = (-2/sample_size)*sum(x*(y-y_pred))\n",
    "    D_c = (-2/sample_size)*sum(y-y_pred)\n",
    "    m = m - (L*D_m)\n",
    "    b = b - (L*D_c)\n",
    "print(m,b)"
   ]
  },
  {
   "cell_type": "code",
   "execution_count": null,
   "id": "2980045b",
   "metadata": {},
   "outputs": [],
   "source": []
  },
  {
   "cell_type": "code",
   "execution_count": null,
   "id": "a2a3e1c2",
   "metadata": {},
   "outputs": [],
   "source": []
  }
 ],
 "metadata": {
  "kernelspec": {
   "display_name": "Python 3 (ipykernel)",
   "language": "python",
   "name": "python3"
  },
  "language_info": {
   "codemirror_mode": {
    "name": "ipython",
    "version": 3
   },
   "file_extension": ".py",
   "mimetype": "text/x-python",
   "name": "python",
   "nbconvert_exporter": "python",
   "pygments_lexer": "ipython3",
   "version": "3.10.9"
  }
 },
 "nbformat": 4,
 "nbformat_minor": 5
}
